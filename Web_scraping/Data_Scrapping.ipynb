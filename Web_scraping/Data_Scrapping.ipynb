{
 "cells": [
  {
   "cell_type": "code",
   "execution_count": 15,
   "metadata": {},
   "outputs": [],
   "source": [
    "import bs4\n",
    "from urllib.request import urlopen as uReq\n",
    "from bs4 import BeautifulSoup as soup\n",
    "import html.parser\n",
    "import csv"
   ]
  },
  {
   "cell_type": "code",
   "execution_count": 2,
   "metadata": {},
   "outputs": [],
   "source": [
    "my_url = \"https://www.azaccountancy.gov/AboutUs/CommitteeMembers.aspx\""
   ]
  },
  {
   "cell_type": "code",
   "execution_count": 3,
   "metadata": {},
   "outputs": [],
   "source": [
    "uClient = uReq(my_url)\n",
    "page_html=uClient.read()\n",
    "uClient.close()"
   ]
  },
  {
   "cell_type": "code",
   "execution_count": 4,
   "metadata": {},
   "outputs": [],
   "source": [
    "page_soup=soup(page_html,'html.parser')"
   ]
  },
  {
   "cell_type": "code",
   "execution_count": 5,
   "metadata": {},
   "outputs": [
    {
     "data": {
      "text/plain": [
       "<td align=\"right\" style=\"width:725px\">\n",
       "</td>"
      ]
     },
     "execution_count": 5,
     "metadata": {},
     "output_type": "execute_result"
    }
   ],
   "source": [
    "page_soup.td"
   ]
  },
  {
   "cell_type": "code",
   "execution_count": 6,
   "metadata": {},
   "outputs": [],
   "source": [
    "containers1=page_soup.findAll('td',{'class':'SubSectionTitle','style':'width: 46%'})\n",
    "containers2=page_soup.findAll('td',{'class':'SubSectionTitle2','style':'width: 46%'})"
   ]
  },
  {
   "cell_type": "code",
   "execution_count": 7,
   "metadata": {},
   "outputs": [],
   "source": [
    "data1=list()\n",
    "for container in containers1:\n",
    "    data1.append(container.text.strip())\n",
    "data2=list()\n",
    "for container in containers2:\n",
    "    data2.append(container.text.strip())\n",
    "    "
   ]
  },
  {
   "cell_type": "code",
   "execution_count": 8,
   "metadata": {
    "collapsed": true
   },
   "outputs": [
    {
     "data": {
      "text/plain": [
       "['Robert E. Dubberly, CPA',\n",
       " 'Andreas Demosthenous Coumides, Jr, CPA',\n",
       " 'Stephen Theodore Harris, CPA',\n",
       " 'Lisa B. Lumbard, CPA',\n",
       " 'Christine Brueser, CPA',\n",
       " 'David S. Cantor, CPA',\n",
       " 'Glenn Conover, CPA',\n",
       " 'James R. Nardine, CPA',\n",
       " 'Stephen J. Rodis, CPA',\n",
       " 'Douglas L. Ball, CPA',\n",
       " 'Wesley Ryan Benally, CPA',\n",
       " 'Candace P. Given, CPA',\n",
       " 'Alan R. Augenstein, CPA',\n",
       " 'George Coleman, Esq',\n",
       " 'Karen K. McCloskey, CPA',\n",
       " 'Teresa Besser Finley, CPA',\n",
       " 'Debra A. Hunter, CPA',\n",
       " 'Sharron E. Walker, CPA',\n",
       " 'A. Carter Smitherman, CPA',\n",
       " 'Anne Cornelius, CPA',\n",
       " 'Paul F. Kern, CPA',\n",
       " 'Jo-Ann M. Humphrey, CPA, CGFM']"
      ]
     },
     "execution_count": 8,
     "metadata": {},
     "output_type": "execute_result"
    }
   ],
   "source": [
    "data2"
   ]
  },
  {
   "cell_type": "code",
   "execution_count": 14,
   "metadata": {},
   "outputs": [],
   "source": [
    "name = data1 + data2"
   ]
  },
  {
   "cell_type": "code",
   "execution_count": 10,
   "metadata": {},
   "outputs": [],
   "source": [
    "containers3=page_soup.findAll('td',{'class':'SubSectionTitle','style':'width: 18%'})\n",
    "containers4=page_soup.findAll('td',{'class':'SubSectionTitle2','style':'width: 18%'})"
   ]
  },
  {
   "cell_type": "code",
   "execution_count": 23,
   "metadata": {},
   "outputs": [],
   "source": [
    "data3=list()\n",
    "for container in containers3:\n",
    "    data3.append(container.text.strip())\n",
    "data4=list()\n",
    "for container in containers4:\n",
    "    data4.append(container.text.strip())"
   ]
  },
  {
   "cell_type": "code",
   "execution_count": 24,
   "metadata": {},
   "outputs": [],
   "source": [
    "designation = data3 + data4"
   ]
  },
  {
   "cell_type": "code",
   "execution_count": 25,
   "metadata": {},
   "outputs": [],
   "source": [
    "with open('index.csv','a') as csv_file:\n",
    "    writer = csv.writer(csv_file)\n",
    "    for n,d in zip(name,designation):\n",
    "        writer.writerow([n,d])\n"
   ]
  },
  {
   "cell_type": "code",
   "execution_count": null,
   "metadata": {},
   "outputs": [],
   "source": []
  }
 ],
 "metadata": {
  "kernelspec": {
   "display_name": "my_new_app",
   "language": "python",
   "name": "my_new_app"
  },
  "language_info": {
   "codemirror_mode": {
    "name": "ipython",
    "version": 3
   },
   "file_extension": ".py",
   "mimetype": "text/x-python",
   "name": "python",
   "nbconvert_exporter": "python",
   "pygments_lexer": "ipython3",
   "version": "3.6.5"
  }
 },
 "nbformat": 4,
 "nbformat_minor": 2
}
